{
 "cells": [
  {
   "cell_type": "code",
   "execution_count": 1,
   "metadata": {},
   "outputs": [],
   "source": [
    "import pandas as pd\n",
    "import matplotlib.pyplot as plt\n",
    "from pathlib import Path"
   ]
  },
  {
   "cell_type": "code",
   "execution_count": 2,
   "metadata": {},
   "outputs": [],
   "source": [
    "### constants\n",
    "LABELS = ['Normal', 'Fraud']\n",
    "RANDOM_SEED = 105\n",
    "UPDATE_SIZE = 0.3\n",
    "TEST_SIZE = 0.2\n",
    "DATASET_PATH = Path('../creditcard.csv')"
   ]
  },
  {
   "cell_type": "code",
   "execution_count": 3,
   "metadata": {},
   "outputs": [],
   "source": [
    "### data reading\n",
    "df = pd.read_csv(DATASET_PATH)\n",
    "#df.describe()"
   ]
  },
  {
   "cell_type": "code",
   "execution_count": 4,
   "metadata": {},
   "outputs": [],
   "source": [
    "### data preparing\n",
    "from sklearn.preprocessing import StandardScaler\n",
    "from sklearn.model_selection import train_test_split\n",
    "\n",
    "### преобразуем данные, убираем колонку \"время\", т.к. она ни на что не влияет\n",
    "data = df.drop(['Time'], axis=1)\n",
    "data['Amount'] = StandardScaler().fit_transform(data['Amount'].values.reshape(-1, 1))\n",
    "\n",
    "### отделяем X от Y\n",
    "Y = data['Class'].values\n",
    "X = data.drop(['Class'], axis=1).values\n",
    "\n",
    "#stratify +\n",
    "\n",
    "### делим данные\n",
    "X_train, X_tmp, Y_train, Y_tmp = train_test_split(\n",
    "    X, Y, test_size=0.3, random_state=RANDOM_SEED, shuffle=True)\n",
    "X_train, X_test, Y_train, Y_test = train_test_split(\n",
    "    X_tmp, Y_tmp, test_size=UPDATE_SIZE, random_state=RANDOM_SEED, shuffle=True)"
   ]
  },
  {
   "cell_type": "code",
   "execution_count": 5,
   "metadata": {},
   "outputs": [
    {
     "data": {
      "text/plain": [
       "48"
      ]
     },
     "execution_count": 5,
     "metadata": {},
     "output_type": "execute_result"
    }
   ],
   "source": [
    "### количество мошенничеств в тестовых данных\n",
    "sum(Y_test)"
   ]
  },
  {
   "cell_type": "code",
   "execution_count": 6,
   "metadata": {},
   "outputs": [
    {
     "name": "stderr",
     "output_type": "stream",
     "text": [
      "Using TensorFlow backend.\n"
     ]
    }
   ],
   "source": [
    "### Creating model\n",
    "from keras.models import Model, load_model\n",
    "from keras.layers import Input, Dense\n",
    "from keras.callbacks import ModelCheckpoint, TensorBoard\n",
    "from keras import regularizers\n",
    "\n",
    "\n",
    "input_dim = X_train.shape[1]\n",
    "encoding_dim = 14"
   ]
  },
  {
   "cell_type": "code",
   "execution_count": 7,
   "metadata": {},
   "outputs": [],
   "source": [
    "input_layer = Input(shape=(input_dim, ))\n",
    "\n",
    "encoder = Dense(encoding_dim, activation=\"tanh\", \n",
    "                activity_regularizer=regularizers.l1(10e-5))(input_layer)\n",
    "encoder = Dense(int(encoding_dim / 2), activation=\"relu\")(encoder)\n",
    "\n",
    "decoder = Dense(int(encoding_dim / 2), activation='tanh')(encoder)\n",
    "decoder = Dense(input_dim, activation='relu')(decoder)\n",
    "\n",
    "autoencoder = Model(inputs=input_layer, outputs=decoder)"
   ]
  },
  {
   "cell_type": "code",
   "execution_count": 8,
   "metadata": {},
   "outputs": [
    {
     "name": "stdout",
     "output_type": "stream",
     "text": [
      "Train on 59810 samples, validate on 25633 samples\n",
      "Epoch 1/100\n",
      "59810/59810 [==============================] - 2s 39us/step - loss: 0.9005 - accuracy: 0.5113 - val_loss: 0.8695 - val_accuracy: 0.5902\n",
      "Epoch 2/100\n",
      "59810/59810 [==============================] - 2s 35us/step - loss: 0.8118 - accuracy: 0.6050 - val_loss: 0.8305 - val_accuracy: 0.6151\n",
      "Epoch 3/100\n",
      "59810/59810 [==============================] - 2s 35us/step - loss: 0.7898 - accuracy: 0.6148 - val_loss: 0.8148 - val_accuracy: 0.6141\n",
      "Epoch 4/100\n",
      "59810/59810 [==============================] - 2s 34us/step - loss: 0.7754 - accuracy: 0.6243 - val_loss: 0.8025 - val_accuracy: 0.6338\n",
      "Epoch 5/100\n",
      "59810/59810 [==============================] - 2s 39us/step - loss: 0.7630 - accuracy: 0.6403 - val_loss: 0.7908 - val_accuracy: 0.6422\n",
      "Epoch 6/100\n",
      "59810/59810 [==============================] - 2s 37us/step - loss: 0.7564 - accuracy: 0.6504 - val_loss: 0.7830 - val_accuracy: 0.6593\n",
      "Epoch 7/100\n",
      "59810/59810 [==============================] - 2s 39us/step - loss: 0.7523 - accuracy: 0.6543 - val_loss: 0.7808 - val_accuracy: 0.6571\n",
      "Epoch 8/100\n",
      "59810/59810 [==============================] - 3s 43us/step - loss: 0.7498 - accuracy: 0.6559 - val_loss: 0.7777 - val_accuracy: 0.6560\n",
      "Epoch 9/100\n",
      "59810/59810 [==============================] - 3s 47us/step - loss: 0.7477 - accuracy: 0.6575 - val_loss: 0.7746 - val_accuracy: 0.6584\n",
      "Epoch 10/100\n",
      "59810/59810 [==============================] - 3s 44us/step - loss: 0.7456 - accuracy: 0.6591 - val_loss: 0.7746 - val_accuracy: 0.6634\n",
      "Epoch 11/100\n",
      "59810/59810 [==============================] - 2s 37us/step - loss: 0.7437 - accuracy: 0.6626 - val_loss: 0.7715 - val_accuracy: 0.6603\n",
      "Epoch 12/100\n",
      "59810/59810 [==============================] - 2s 35us/step - loss: 0.7423 - accuracy: 0.6639 - val_loss: 0.7682 - val_accuracy: 0.6666\n",
      "Epoch 13/100\n",
      "59810/59810 [==============================] - 2s 34us/step - loss: 0.7414 - accuracy: 0.6634 - val_loss: 0.7684 - val_accuracy: 0.6661\n",
      "Epoch 14/100\n",
      "59810/59810 [==============================] - 2s 36us/step - loss: 0.7408 - accuracy: 0.6650 - val_loss: 0.7660 - val_accuracy: 0.6612\n",
      "Epoch 15/100\n",
      "59810/59810 [==============================] - 2s 35us/step - loss: 0.7396 - accuracy: 0.6664 - val_loss: 0.7663 - val_accuracy: 0.6684\n",
      "Epoch 16/100\n",
      "59810/59810 [==============================] - 2s 39us/step - loss: 0.7394 - accuracy: 0.6654 - val_loss: 0.7667 - val_accuracy: 0.6723\n",
      "Epoch 17/100\n",
      "59810/59810 [==============================] - 2s 41us/step - loss: 0.7387 - accuracy: 0.6675 - val_loss: 0.7635 - val_accuracy: 0.6694\n",
      "Epoch 18/100\n",
      "59810/59810 [==============================] - 2s 35us/step - loss: 0.7385 - accuracy: 0.6658 - val_loss: 0.7632 - val_accuracy: 0.6731\n",
      "Epoch 19/100\n",
      "59810/59810 [==============================] - 2s 35us/step - loss: 0.7376 - accuracy: 0.6685 - val_loss: 0.7636 - val_accuracy: 0.6721\n",
      "Epoch 20/100\n",
      "59810/59810 [==============================] - 2s 33us/step - loss: 0.7371 - accuracy: 0.6690 - val_loss: 0.7625 - val_accuracy: 0.6717\n",
      "Epoch 21/100\n",
      "59810/59810 [==============================] - 2s 32us/step - loss: 0.7368 - accuracy: 0.6694 - val_loss: 0.7644 - val_accuracy: 0.6682\n",
      "Epoch 22/100\n",
      "59810/59810 [==============================] - 2s 33us/step - loss: 0.7368 - accuracy: 0.6684 - val_loss: 0.7612 - val_accuracy: 0.6746\n",
      "Epoch 23/100\n",
      "59810/59810 [==============================] - 2s 32us/step - loss: 0.7360 - accuracy: 0.6701 - val_loss: 0.7606 - val_accuracy: 0.6728\n",
      "Epoch 24/100\n",
      "59810/59810 [==============================] - 2s 31us/step - loss: 0.7357 - accuracy: 0.6699 - val_loss: 0.7604 - val_accuracy: 0.6732\n",
      "Epoch 25/100\n",
      "59810/59810 [==============================] - 2s 31us/step - loss: 0.7352 - accuracy: 0.6698 - val_loss: 0.7603 - val_accuracy: 0.6741\n",
      "Epoch 26/100\n",
      "59810/59810 [==============================] - 2s 33us/step - loss: 0.7349 - accuracy: 0.6701 - val_loss: 0.7600 - val_accuracy: 0.6737\n",
      "Epoch 27/100\n",
      "59810/59810 [==============================] - 2s 33us/step - loss: 0.7348 - accuracy: 0.6704 - val_loss: 0.7606 - val_accuracy: 0.6758\n",
      "Epoch 28/100\n",
      "59810/59810 [==============================] - 2s 39us/step - loss: 0.7346 - accuracy: 0.6713 - val_loss: 0.7590 - val_accuracy: 0.6748\n",
      "Epoch 29/100\n",
      "59810/59810 [==============================] - 2s 35us/step - loss: 0.7346 - accuracy: 0.6711 - val_loss: 0.7589 - val_accuracy: 0.6719\n",
      "Epoch 30/100\n",
      "59810/59810 [==============================] - 2s 35us/step - loss: 0.7344 - accuracy: 0.6701 - val_loss: 0.7589 - val_accuracy: 0.6752\n",
      "Epoch 31/100\n",
      "59810/59810 [==============================] - 2s 34us/step - loss: 0.7338 - accuracy: 0.6714 - val_loss: 0.7577 - val_accuracy: 0.6746\n",
      "Epoch 32/100\n",
      "59810/59810 [==============================] - 2s 32us/step - loss: 0.7336 - accuracy: 0.6711 - val_loss: 0.7584 - val_accuracy: 0.6698\n",
      "Epoch 33/100\n",
      "59810/59810 [==============================] - 2s 32us/step - loss: 0.7336 - accuracy: 0.6701 - val_loss: 0.7575 - val_accuracy: 0.6692\n",
      "Epoch 34/100\n",
      "59810/59810 [==============================] - 2s 36us/step - loss: 0.7338 - accuracy: 0.6704 - val_loss: 0.7587 - val_accuracy: 0.6717\n",
      "Epoch 35/100\n",
      "59810/59810 [==============================] - 2s 34us/step - loss: 0.7336 - accuracy: 0.6707 - val_loss: 0.7588 - val_accuracy: 0.6725\n",
      "Epoch 36/100\n",
      "59810/59810 [==============================] - 2s 33us/step - loss: 0.7334 - accuracy: 0.6722 - val_loss: 0.7585 - val_accuracy: 0.6742\n",
      "Epoch 37/100\n",
      "59810/59810 [==============================] - 2s 31us/step - loss: 0.7329 - accuracy: 0.6731 - val_loss: 0.7562 - val_accuracy: 0.6783\n",
      "Epoch 38/100\n",
      "59810/59810 [==============================] - 2s 35us/step - loss: 0.7331 - accuracy: 0.6712 - val_loss: 0.7596 - val_accuracy: 0.6720\n",
      "Epoch 39/100\n",
      "59810/59810 [==============================] - 2s 40us/step - loss: 0.7332 - accuracy: 0.6713 - val_loss: 0.7576 - val_accuracy: 0.6758\n",
      "Epoch 40/100\n",
      "59810/59810 [==============================] - 2s 37us/step - loss: 0.7328 - accuracy: 0.6710 - val_loss: 0.7568 - val_accuracy: 0.6763\n",
      "Epoch 41/100\n",
      "59810/59810 [==============================] - 2s 33us/step - loss: 0.7325 - accuracy: 0.6721 - val_loss: 0.7560 - val_accuracy: 0.6721\n",
      "Epoch 42/100\n",
      "59810/59810 [==============================] - 2s 33us/step - loss: 0.7331 - accuracy: 0.6725 - val_loss: 0.7601 - val_accuracy: 0.6695\n",
      "Epoch 43/100\n",
      "59810/59810 [==============================] - 2s 31us/step - loss: 0.7325 - accuracy: 0.6716 - val_loss: 0.7577 - val_accuracy: 0.6791\n",
      "Epoch 44/100\n",
      "59810/59810 [==============================] - 2s 32us/step - loss: 0.7332 - accuracy: 0.6711 - val_loss: 0.7564 - val_accuracy: 0.6737\n",
      "Epoch 45/100\n",
      "59810/59810 [==============================] - 2s 33us/step - loss: 0.7323 - accuracy: 0.6717 - val_loss: 0.7581 - val_accuracy: 0.6756\n",
      "Epoch 46/100\n",
      "59810/59810 [==============================] - 2s 32us/step - loss: 0.7323 - accuracy: 0.6715 - val_loss: 0.7566 - val_accuracy: 0.6698\n",
      "Epoch 47/100\n",
      "59810/59810 [==============================] - 2s 32us/step - loss: 0.7324 - accuracy: 0.6709 - val_loss: 0.7576 - val_accuracy: 0.6741\n",
      "Epoch 48/100\n",
      "59810/59810 [==============================] - 2s 32us/step - loss: 0.7322 - accuracy: 0.6707 - val_loss: 0.7578 - val_accuracy: 0.6752\n",
      "Epoch 49/100\n",
      "59810/59810 [==============================] - 2s 32us/step - loss: 0.7320 - accuracy: 0.6720 - val_loss: 0.7558 - val_accuracy: 0.6781\n",
      "Epoch 50/100\n",
      "59810/59810 [==============================] - 2s 36us/step - loss: 0.7319 - accuracy: 0.6714 - val_loss: 0.7599 - val_accuracy: 0.6743\n",
      "Epoch 51/100\n",
      "59810/59810 [==============================] - 3s 50us/step - loss: 0.7318 - accuracy: 0.6723 - val_loss: 0.7555 - val_accuracy: 0.6782\n",
      "Epoch 52/100\n",
      "59810/59810 [==============================] - 3s 44us/step - loss: 0.7316 - accuracy: 0.6698 - val_loss: 0.7548 - val_accuracy: 0.6725\n",
      "Epoch 53/100\n",
      "59810/59810 [==============================] - 3s 42us/step - loss: 0.7314 - accuracy: 0.6714 - val_loss: 0.7558 - val_accuracy: 0.6765\n",
      "Epoch 54/100\n",
      "59810/59810 [==============================] - 3s 43us/step - loss: 0.7313 - accuracy: 0.6732 - val_loss: 0.7541 - val_accuracy: 0.6790\n",
      "Epoch 55/100\n",
      "59810/59810 [==============================] - 3s 44us/step - loss: 0.7307 - accuracy: 0.6762 - val_loss: 0.7547 - val_accuracy: 0.6787\n"
     ]
    },
    {
     "name": "stdout",
     "output_type": "stream",
     "text": [
      "Epoch 56/100\n",
      "59810/59810 [==============================] - 3s 44us/step - loss: 0.7310 - accuracy: 0.6767 - val_loss: 0.7541 - val_accuracy: 0.6810\n",
      "Epoch 57/100\n",
      "59810/59810 [==============================] - 2s 37us/step - loss: 0.7301 - accuracy: 0.6786 - val_loss: 0.7534 - val_accuracy: 0.6836\n",
      "Epoch 58/100\n",
      "59810/59810 [==============================] - 2s 37us/step - loss: 0.7298 - accuracy: 0.6790 - val_loss: 0.7553 - val_accuracy: 0.6857\n",
      "Epoch 59/100\n",
      "59810/59810 [==============================] - 2s 38us/step - loss: 0.7298 - accuracy: 0.6808 - val_loss: 0.7537 - val_accuracy: 0.6835\n",
      "Epoch 60/100\n",
      "59810/59810 [==============================] - 2s 36us/step - loss: 0.7292 - accuracy: 0.6793 - val_loss: 0.7527 - val_accuracy: 0.6827\n",
      "Epoch 61/100\n",
      "59810/59810 [==============================] - 2s 37us/step - loss: 0.7300 - accuracy: 0.6809 - val_loss: 0.7537 - val_accuracy: 0.6826\n",
      "Epoch 62/100\n",
      "59810/59810 [==============================] - 2s 37us/step - loss: 0.7294 - accuracy: 0.6813 - val_loss: 0.7563 - val_accuracy: 0.6827\n",
      "Epoch 63/100\n",
      "59810/59810 [==============================] - 2s 36us/step - loss: 0.7294 - accuracy: 0.6799 - val_loss: 0.7533 - val_accuracy: 0.6880\n",
      "Epoch 64/100\n",
      "59810/59810 [==============================] - 2s 38us/step - loss: 0.7289 - accuracy: 0.6822 - val_loss: 0.7557 - val_accuracy: 0.6884\n",
      "Epoch 65/100\n",
      "59810/59810 [==============================] - 2s 37us/step - loss: 0.7294 - accuracy: 0.6821 - val_loss: 0.7537 - val_accuracy: 0.6838\n",
      "Epoch 66/100\n",
      "59810/59810 [==============================] - 2s 37us/step - loss: 0.7290 - accuracy: 0.6815 - val_loss: 0.7544 - val_accuracy: 0.6860\n",
      "Epoch 67/100\n",
      "59810/59810 [==============================] - 2s 37us/step - loss: 0.7292 - accuracy: 0.6809 - val_loss: 0.7531 - val_accuracy: 0.6809\n",
      "Epoch 68/100\n",
      "59810/59810 [==============================] - 2s 37us/step - loss: 0.7287 - accuracy: 0.6810 - val_loss: 0.7536 - val_accuracy: 0.6835\n",
      "Epoch 69/100\n",
      "59810/59810 [==============================] - 2s 37us/step - loss: 0.7289 - accuracy: 0.6799 - val_loss: 0.7535 - val_accuracy: 0.6785\n",
      "Epoch 70/100\n",
      "59810/59810 [==============================] - 2s 37us/step - loss: 0.7287 - accuracy: 0.6795 - val_loss: 0.7515 - val_accuracy: 0.6919\n",
      "Epoch 71/100\n",
      "59810/59810 [==============================] - 2s 38us/step - loss: 0.7288 - accuracy: 0.6817 - val_loss: 0.7515 - val_accuracy: 0.6887\n",
      "Epoch 72/100\n",
      "59810/59810 [==============================] - 2s 37us/step - loss: 0.7288 - accuracy: 0.6812 - val_loss: 0.7530 - val_accuracy: 0.6792\n",
      "Epoch 73/100\n",
      "59810/59810 [==============================] - 2s 37us/step - loss: 0.7297 - accuracy: 0.6819 - val_loss: 0.7526 - val_accuracy: 0.6841\n",
      "Epoch 74/100\n",
      "59810/59810 [==============================] - 2s 37us/step - loss: 0.7284 - accuracy: 0.6821 - val_loss: 0.7533 - val_accuracy: 0.6763\n",
      "Epoch 75/100\n",
      "59810/59810 [==============================] - 2s 37us/step - loss: 0.7285 - accuracy: 0.6805 - val_loss: 0.7511 - val_accuracy: 0.6876\n",
      "Epoch 76/100\n",
      "59810/59810 [==============================] - 2s 37us/step - loss: 0.7289 - accuracy: 0.6807 - val_loss: 0.7522 - val_accuracy: 0.6863\n",
      "Epoch 77/100\n",
      "59810/59810 [==============================] - 2s 38us/step - loss: 0.7291 - accuracy: 0.6812 - val_loss: 0.7517 - val_accuracy: 0.6895\n",
      "Epoch 78/100\n",
      "59810/59810 [==============================] - 2s 37us/step - loss: 0.7287 - accuracy: 0.6819 - val_loss: 0.7553 - val_accuracy: 0.6846\n",
      "Epoch 79/100\n",
      "59810/59810 [==============================] - 2s 37us/step - loss: 0.7282 - accuracy: 0.6826 - val_loss: 0.7517 - val_accuracy: 0.6852\n",
      "Epoch 80/100\n",
      "59810/59810 [==============================] - 2s 36us/step - loss: 0.7282 - accuracy: 0.6812 - val_loss: 0.7530 - val_accuracy: 0.6851\n",
      "Epoch 81/100\n",
      "59810/59810 [==============================] - 2s 39us/step - loss: 0.7286 - accuracy: 0.6817 - val_loss: 0.7545 - val_accuracy: 0.6850\n",
      "Epoch 82/100\n",
      "59810/59810 [==============================] - 2s 34us/step - loss: 0.7291 - accuracy: 0.6819 - val_loss: 0.7543 - val_accuracy: 0.6817\n",
      "Epoch 83/100\n",
      "59810/59810 [==============================] - 2s 32us/step - loss: 0.7287 - accuracy: 0.6815 - val_loss: 0.7537 - val_accuracy: 0.6811\n",
      "Epoch 84/100\n",
      "59810/59810 [==============================] - 2s 31us/step - loss: 0.7279 - accuracy: 0.6825 - val_loss: 0.7512 - val_accuracy: 0.6885\n",
      "Epoch 85/100\n",
      "59810/59810 [==============================] - 2s 31us/step - loss: 0.7286 - accuracy: 0.6808 - val_loss: 0.7513 - val_accuracy: 0.6839\n",
      "Epoch 86/100\n",
      "59810/59810 [==============================] - 3s 56us/step - loss: 0.7280 - accuracy: 0.6823 - val_loss: 0.7521 - val_accuracy: 0.6875\n",
      "Epoch 87/100\n",
      "59810/59810 [==============================] - 2s 39us/step - loss: 0.7285 - accuracy: 0.6825 - val_loss: 0.7523 - val_accuracy: 0.6880\n",
      "Epoch 88/100\n",
      "59810/59810 [==============================] - 2s 37us/step - loss: 0.7280 - accuracy: 0.6812 - val_loss: 0.7518 - val_accuracy: 0.6874\n",
      "Epoch 89/100\n",
      "59810/59810 [==============================] - 3s 43us/step - loss: 0.7284 - accuracy: 0.6820 - val_loss: 0.7509 - val_accuracy: 0.6839\n",
      "Epoch 90/100\n",
      "59810/59810 [==============================] - 2s 38us/step - loss: 0.7280 - accuracy: 0.6822 - val_loss: 0.7520 - val_accuracy: 0.6857\n",
      "Epoch 91/100\n",
      "59810/59810 [==============================] - 2s 35us/step - loss: 0.7278 - accuracy: 0.6819 - val_loss: 0.7512 - val_accuracy: 0.6827\n",
      "Epoch 92/100\n",
      "59810/59810 [==============================] - 2s 36us/step - loss: 0.7282 - accuracy: 0.6812 - val_loss: 0.7527 - val_accuracy: 0.6802\n",
      "Epoch 93/100\n",
      "59810/59810 [==============================] - 2s 41us/step - loss: 0.7279 - accuracy: 0.6824 - val_loss: 0.7540 - val_accuracy: 0.6835\n",
      "Epoch 94/100\n",
      "59810/59810 [==============================] - 2s 41us/step - loss: 0.7281 - accuracy: 0.6804 - val_loss: 0.7512 - val_accuracy: 0.6842\n",
      "Epoch 95/100\n",
      "59810/59810 [==============================] - 2s 37us/step - loss: 0.7280 - accuracy: 0.6820 - val_loss: 0.7510 - val_accuracy: 0.6866\n",
      "Epoch 96/100\n",
      "59810/59810 [==============================] - 2s 34us/step - loss: 0.7279 - accuracy: 0.6806 - val_loss: 0.7502 - val_accuracy: 0.6861\n",
      "Epoch 97/100\n",
      "59810/59810 [==============================] - 2s 34us/step - loss: 0.7277 - accuracy: 0.6814 - val_loss: 0.7562 - val_accuracy: 0.6892\n",
      "Epoch 98/100\n",
      "59810/59810 [==============================] - 2s 34us/step - loss: 0.7276 - accuracy: 0.6824 - val_loss: 0.7526 - val_accuracy: 0.6730\n",
      "Epoch 99/100\n",
      "59810/59810 [==============================] - 2s 33us/step - loss: 0.7277 - accuracy: 0.6814 - val_loss: 0.7519 - val_accuracy: 0.6798\n",
      "Epoch 100/100\n",
      "59810/59810 [==============================] - 2s 33us/step - loss: 0.7277 - accuracy: 0.6811 - val_loss: 0.7519 - val_accuracy: 0.6824\n"
     ]
    }
   ],
   "source": [
    "nb_epoch = 100\n",
    "batch_size = 32\n",
    "\n",
    "autoencoder.compile(optimizer='adam', \n",
    "                    loss='mean_squared_error', \n",
    "                    metrics=['accuracy'])\n",
    "\n",
    "checkpointer = ModelCheckpoint(filepath='model.h5',\n",
    "                               verbose=0,\n",
    "                               save_best_only=True)\n",
    "tensorboard = TensorBoard(log_dir='./logs',\n",
    "                          histogram_freq=0,\n",
    "                          write_graph=True,\n",
    "                          write_images=True)\n",
    "\n",
    "history = autoencoder.fit(X_train, X_train,\n",
    "                    epochs=nb_epoch,\n",
    "                    batch_size=batch_size,\n",
    "                    shuffle=True,\n",
    "                    validation_data=(X_test, X_test),\n",
    "                    verbose=1,\n",
    "                    callbacks=[checkpointer, tensorboard]).history"
   ]
  },
  {
   "cell_type": "code",
   "execution_count": null,
   "metadata": {},
   "outputs": [],
   "source": [
    "model = load_model('model.h5')"
   ]
  },
  {
   "cell_type": "code",
   "execution_count": 10,
   "metadata": {},
   "outputs": [
    {
     "data": {
      "text/plain": [
       "<matplotlib.legend.Legend at 0x7fea202edfa0>"
      ]
     },
     "execution_count": 10,
     "metadata": {},
     "output_type": "execute_result"
    },
    {
     "data": {
      "image/png": "[encoded data removed]",
      "text/plain": [
       "<Figure size 432x288 with 1 Axes>"
      ]
     },
     "metadata": {
      "needs_background": "light"
     },
     "output_type": "display_data"
    }
   ],
   "source": [
    "plt.plot(history['loss'])\n",
    "plt.plot(history['val_loss'])\n",
    "plt.title('model loss')\n",
    "plt.ylabel('loss')\n",
    "plt.xlabel('epoch')\n",
    "plt.legend(['train', 'test'], loc='upper right')"
   ]
  },
  {
   "cell_type": "code",
   "execution_count": 13,
   "metadata": {},
   "outputs": [],
   "source": [
    "predictions = autoencoder.predict(X_test)"
   ]
  },
  {
   "cell_type": "code",
   "execution_count": 14,
   "metadata": {},
   "outputs": [],
   "source": [
    "import numpy as np\n",
    "\n",
    "\n",
    "mse = np.mean(np.power(X_test - predictions, 2), axis=1)"
   ]
  },
  {
   "cell_type": "code",
   "execution_count": 16,
   "metadata": {},
   "outputs": [
    {
     "data": {
      "image/png": "[encoded data removed]",
      "text/plain": [
       "<Figure size 432x288 with 1 Axes>"
      ]
     },
     "metadata": {
      "needs_background": "light"
     },
     "output_type": "display_data"
    }
   ],
   "source": [
    "from sklearn.metrics import precision_recall_curve\n",
    "\n",
    "\n",
    "precision, recall, th = precision_recall_curve(Y_test, mse)\n",
    "plt.plot(recall, precision, 'b', label='Precision-Recall curve')\n",
    "plt.title('Recall vs Precision')\n",
    "plt.xlabel('Recall')\n",
    "plt.ylabel('Precision')\n",
    "plt.show()"
   ]
  },
  {
   "cell_type": "code",
   "execution_count": 44,
   "metadata": {},
   "outputs": [
    {
     "ename": "TypeError",
     "evalue": "only size-1 arrays can be converted to Python scalars",
     "output_type": "error",
     "traceback": [
      "\u001b[1;31m---------------------------------------------------------------------------\u001b[0m",
      "\u001b[1;31mTypeError\u001b[0m                                 Traceback (most recent call last)",
      "\u001b[1;32m<ipython-input-44-61e6748341e3>\u001b[0m in \u001b[0;36m<module>\u001b[1;34m\u001b[0m\n\u001b[0;32m      4\u001b[0m     \u001b[0mTP\u001b[0m \u001b[1;33m+=\u001b[0m \u001b[0mint\u001b[0m\u001b[1;33m(\u001b[0m\u001b[0mtrue_class\u001b[0m \u001b[1;32mand\u001b[0m \u001b[0mprediction\u001b[0m\u001b[1;33m)\u001b[0m\u001b[1;33m\u001b[0m\u001b[1;33m\u001b[0m\u001b[0m\n\u001b[0;32m      5\u001b[0m     \u001b[0mFN\u001b[0m \u001b[1;33m+=\u001b[0m \u001b[0mint\u001b[0m\u001b[1;33m(\u001b[0m\u001b[0mtrue_class\u001b[0m \u001b[1;32mand\u001b[0m \u001b[1;32mnot\u001b[0m \u001b[0mprediction\u001b[0m\u001b[1;33m)\u001b[0m\u001b[1;33m\u001b[0m\u001b[1;33m\u001b[0m\u001b[0m\n\u001b[1;32m----> 6\u001b[1;33m     \u001b[0mFP\u001b[0m \u001b[1;33m+=\u001b[0m \u001b[0mint\u001b[0m\u001b[1;33m(\u001b[0m\u001b[1;32mnot\u001b[0m \u001b[0mtrue_class\u001b[0m \u001b[1;32mand\u001b[0m \u001b[0mprediction\u001b[0m\u001b[1;33m)\u001b[0m\u001b[1;33m\u001b[0m\u001b[1;33m\u001b[0m\u001b[0m\n\u001b[0m\u001b[0;32m      7\u001b[0m     \u001b[0mTN\u001b[0m \u001b[1;33m+=\u001b[0m \u001b[0mint\u001b[0m\u001b[1;33m(\u001b[0m\u001b[1;32mnot\u001b[0m \u001b[0mtrue_class\u001b[0m \u001b[1;32mand\u001b[0m \u001b[1;32mnot\u001b[0m \u001b[0mprediction\u001b[0m\u001b[1;33m)\u001b[0m\u001b[1;33m\u001b[0m\u001b[1;33m\u001b[0m\u001b[0m\n",
      "\u001b[1;31mTypeError\u001b[0m: only size-1 arrays can be converted to Python scalars"
     ]
    }
   ],
   "source": [
    "TP, FP, TN, FN = 0, 0, 0, 0\n",
    "\n",
    "for prediction, true_class in zip(predictions, Y_test):\n",
    "    TP += int(true_class and prediction)\n",
    "    FN += int(true_class and not prediction)\n",
    "    FP += int(not true_class and prediction)\n",
    "    TN += int(not true_class and not prediction)"
   ]
  },
  {
   "cell_type": "code",
   "execution_count": 11,
   "metadata": {},
   "outputs": [
    {
     "name": "stdout",
     "output_type": "stream",
     "text": [
      "TP: 71\n",
      "FP: 6\n",
      "TN: 56867\n",
      "FN: 18\n"
     ]
    }
   ],
   "source": [
    "print('TP:', TP)  # мошенничество, определено правильно\n",
    "print('FP:', FP)  # нормальная транзакция, определена неправильно\n",
    "print('TN:', TN)  # нормальная транзакция, определена правильно\n",
    "print('FN:', FN)  # мошенничество, определено неправильно"
   ]
  },
  {
   "cell_type": "code",
   "execution_count": 13,
   "metadata": {},
   "outputs": [
    {
     "name": "stdout",
     "output_type": "stream",
     "text": [
      "0.922077922077922\n",
      "0.797752808988764\n"
     ]
    }
   ],
   "source": [
    "precision = TP / (TP + FP)\n",
    "recall = TP / (TP + FN)\n",
    "\n",
    "print(precision)\n",
    "print(recall)"
   ]
  },
  {
   "cell_type": "code",
   "execution_count": 34,
   "metadata": {},
   "outputs": [
    {
     "name": "stdout",
     "output_type": "stream",
     "text": [
      "0.797752808988764\n",
      "0.00010549821532185747\n"
     ]
    }
   ],
   "source": [
    "tpr = TP / (TP + FN)  # True positive rate\n",
    "fpr = FP / (FP + TN)  # False positive rate\n",
    "\n",
    "print(tpr)\n",
    "print(fpr)"
   ]
  },
  {
   "cell_type": "code",
   "execution_count": 35,
   "metadata": {},
   "outputs": [
    {
     "data": {
      "image/png": "[encoded data removed]",
      "text/plain": [
       "<Figure size 432x288 with 1 Axes>"
      ]
     },
     "metadata": {
      "needs_background": "light"
     },
     "output_type": "display_data"
    }
   ],
   "source": [
    "### Precision-recall curve\n",
    "from sklearn.metrics import precision_recall_curve\n",
    "from sklearn.metrics import plot_precision_recall_curve\n",
    "import matplotlib.pyplot as plt\n",
    "\n",
    "disp = plot_precision_recall_curve(model, X_test, Y_test)"
   ]
  },
  {
   "cell_type": "code",
   "execution_count": null,
   "metadata": {},
   "outputs": [],
   "source": [
    "plt.savefig('fname.svg', dpi=300, facecolor='w', edgecolor='red',\n",
    "        orientation='portrait', papertype=None, format=None,\n",
    "        transparent=True, bbox_inches=None, pad_inches=0.1)"
   ]
  }
 ],
 "metadata": {
  "kernelspec": {
   "display_name": "Python 3",
   "language": "python",
   "name": "python3"
  },
  "language_info": {
   "codemirror_mode": {
    "name": "ipython",
    "version": 3
   },
   "file_extension": ".py",
   "mimetype": "text/x-python",
   "name": "python",
   "nbconvert_exporter": "python",
   "pygments_lexer": "ipython3",
   "version": "3.8.3"
  }
 },
 "nbformat": 4,
 "nbformat_minor": 4
}
