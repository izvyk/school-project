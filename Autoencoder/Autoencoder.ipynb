{
 "cells": [
  {
   "cell_type": "code",
   "execution_count": 60,
   "metadata": {},
   "outputs": [],
   "source": [
    "import pandas as pd\n",
    "import matplotlib.pyplot as plt\n",
    "from pathlib import Path"
   ]
  },
  {
   "cell_type": "code",
   "execution_count": 61,
   "metadata": {},
   "outputs": [],
   "source": [
    "# constants\n",
    "LABELS = ['Normal', 'Fraud']\n",
    "RANDOM_SEED = 105\n",
    "UPDATE_SIZE = 0.3\n",
    "TEST_SIZE = 0.2\n",
    "DATASET_PATH = Path('../creditcard.csv')"
   ]
  },
  {
   "cell_type": "code",
   "execution_count": 62,
   "metadata": {},
   "outputs": [],
   "source": [
    "# data reading\n",
    "df = pd.read_csv(DATASET_PATH)"
   ]
  },
  {
   "cell_type": "code",
   "execution_count": 63,
   "metadata": {},
   "outputs": [],
   "source": [
    "# data preparing\n",
    "from sklearn.preprocessing import StandardScaler\n",
    "from sklearn.model_selection import train_test_split\n",
    "\n",
    "\n",
    "# преобразуем данные, убираем колонку \"время\", т.к. она ни на что не влияет\n",
    "data = df.drop(['Time'], axis=1)\n",
    "data['Amount'] = StandardScaler().fit_transform(data['Amount'].values.reshape(-1, 1))\n",
    "\n",
    "X_train, X_test = train_test_split(data, test_size=UPDATE_SIZE, random_state=RANDOM_SEED, stratify=Y)\n",
    "\n",
    "X_train = X_train[X_train.Class == 0]\n",
    "X_train = X_train.drop(['Class'], axis=1)\n",
    "\n",
    "Y_test = X_test['Class']\n",
    "X_test = X_test.drop(['Class'], axis=1)\n",
    "\n",
    "X_train = X_train.values\n",
    "X_test = X_test.values"
   ]
  },
  {
   "cell_type": "code",
   "execution_count": 64,
   "metadata": {},
   "outputs": [
    {
     "data": {
      "text/plain": [
       "148"
      ]
     },
     "execution_count": 64,
     "metadata": {},
     "output_type": "execute_result"
    }
   ],
   "source": [
    "# количество мошенничеств в тестовых данных\n",
    "sum(Y_test)"
   ]
  },
  {
   "cell_type": "code",
   "execution_count": 98,
   "metadata": {},
   "outputs": [],
   "source": [
    "# Creating model\n",
    "from keras.models import Model, load_model\n",
    "from keras.layers import Input, Dense\n",
    "from keras.callbacks import ModelCheckpoint, TensorBoard\n",
    "from keras import regularizers\n",
    "from keras import metrics\n",
    "\n",
    "\n",
    "input_dim = X_train.shape[1]\n",
    "encoding_dim = 14"
   ]
  },
  {
   "cell_type": "code",
   "execution_count": 99,
   "metadata": {},
   "outputs": [],
   "source": [
    "input_layer = Input(shape=(input_dim, ))\n",
    "\n",
    "encoder = Dense(encoding_dim, activation=\"tanh\", \n",
    "                activity_regularizer=regularizers.l1(10e-5))(input_layer)\n",
    "encoder = Dense(int(encoding_dim / 2), activation=\"relu\")(encoder)\n",
    "\n",
    "decoder = Dense(int(encoding_dim / 2), activation='tanh')(encoder)\n",
    "decoder = Dense(input_dim, activation='relu')(decoder)\n",
    "\n",
    "autoencoder = Model(inputs=input_layer, outputs=decoder)"
   ]
  },
  {
   "cell_type": "code",
   "execution_count": 100,
   "metadata": {},
   "outputs": [
    {
     "name": "stdout",
     "output_type": "stream",
     "text": [
      "Train on 199020 samples, validate on 85443 samples\n",
      "Epoch 1/40\n",
      "199020/199020 [==============================] - 9s 46us/step - loss: 0.8403 - accuracy: 0.5621 - val_loss: 0.8365 - val_accuracy: 0.6096\n",
      "Epoch 2/40\n",
      "199020/199020 [==============================] - 9s 45us/step - loss: 0.7756 - accuracy: 0.6331 - val_loss: 0.8133 - val_accuracy: 0.6409\n",
      "Epoch 3/40\n",
      "199020/199020 [==============================] - 9s 45us/step - loss: 0.7647 - accuracy: 0.6494 - val_loss: 0.8066 - val_accuracy: 0.6531\n",
      "Epoch 4/40\n",
      "199020/199020 [==============================] - 10s 51us/step - loss: 0.7597 - accuracy: 0.6588 - val_loss: 0.8038 - val_accuracy: 0.6651\n",
      "Epoch 5/40\n",
      "199020/199020 [==============================] - 8s 40us/step - loss: 0.7553 - accuracy: 0.6640 - val_loss: 0.7997 - val_accuracy: 0.6631\n",
      "Epoch 6/40\n",
      "199020/199020 [==============================] - 8s 42us/step - loss: 0.7520 - accuracy: 0.6682 - val_loss: 0.7972 - val_accuracy: 0.6709\n",
      "Epoch 7/40\n",
      "199020/199020 [==============================] - 8s 42us/step - loss: 0.7502 - accuracy: 0.6724 - val_loss: 0.7940 - val_accuracy: 0.6734\n",
      "Epoch 8/40\n",
      "199020/199020 [==============================] - 8s 40us/step - loss: 0.7492 - accuracy: 0.6747 - val_loss: 0.7934 - val_accuracy: 0.6699\n",
      "Epoch 9/40\n",
      "199020/199020 [==============================] - 9s 46us/step - loss: 0.7481 - accuracy: 0.6774 - val_loss: 0.7939 - val_accuracy: 0.6690\n",
      "Epoch 10/40\n",
      "199020/199020 [==============================] - 9s 46us/step - loss: 0.7475 - accuracy: 0.6799 - val_loss: 0.7918 - val_accuracy: 0.6768\n",
      "Epoch 11/40\n",
      "199020/199020 [==============================] - 9s 45us/step - loss: 0.7468 - accuracy: 0.6803 - val_loss: 0.7895 - val_accuracy: 0.6839\n",
      "Epoch 12/40\n",
      "199020/199020 [==============================] - 9s 48us/step - loss: 0.7464 - accuracy: 0.6829 - val_loss: 0.7893 - val_accuracy: 0.6838\n",
      "Epoch 13/40\n",
      "199020/199020 [==============================] - 9s 46us/step - loss: 0.7460 - accuracy: 0.6832 - val_loss: 0.7909 - val_accuracy: 0.6817\n",
      "Epoch 14/40\n",
      "199020/199020 [==============================] - 11s 54us/step - loss: 0.7456 - accuracy: 0.6847 - val_loss: 0.7918 - val_accuracy: 0.6807\n",
      "Epoch 15/40\n",
      "199020/199020 [==============================] - 10s 50us/step - loss: 0.7454 - accuracy: 0.6858 - val_loss: 0.7894 - val_accuracy: 0.6854\n",
      "Epoch 16/40\n",
      "199020/199020 [==============================] - 8s 42us/step - loss: 0.7451 - accuracy: 0.6860 - val_loss: 0.7900 - val_accuracy: 0.6864\n",
      "Epoch 17/40\n",
      "199020/199020 [==============================] - 9s 47us/step - loss: 0.7451 - accuracy: 0.6872 - val_loss: 0.7892 - val_accuracy: 0.6895\n",
      "Epoch 18/40\n",
      "199020/199020 [==============================] - 9s 44us/step - loss: 0.7446 - accuracy: 0.6877 - val_loss: 0.7885 - val_accuracy: 0.6941\n",
      "Epoch 19/40\n",
      "199020/199020 [==============================] - 7s 37us/step - loss: 0.7447 - accuracy: 0.6882 - val_loss: 0.7889 - val_accuracy: 0.6937\n",
      "Epoch 20/40\n",
      "199020/199020 [==============================] - 8s 41us/step - loss: 0.7444 - accuracy: 0.6898 - val_loss: 0.7886 - val_accuracy: 0.6912\n",
      "Epoch 21/40\n",
      "199020/199020 [==============================] - 8s 41us/step - loss: 0.7441 - accuracy: 0.6904 - val_loss: 0.7911 - val_accuracy: 0.6843\n",
      "Epoch 22/40\n",
      "199020/199020 [==============================] - 8s 40us/step - loss: 0.7441 - accuracy: 0.6906 - val_loss: 0.7895 - val_accuracy: 0.6906\n",
      "Epoch 23/40\n",
      "199020/199020 [==============================] - 8s 41us/step - loss: 0.7441 - accuracy: 0.6916 - val_loss: 0.7915 - val_accuracy: 0.6863\n",
      "Epoch 24/40\n",
      "199020/199020 [==============================] - 8s 38us/step - loss: 0.7439 - accuracy: 0.6911 - val_loss: 0.7879 - val_accuracy: 0.6917\n",
      "Epoch 25/40\n",
      "199020/199020 [==============================] - 10s 50us/step - loss: 0.7436 - accuracy: 0.6920 - val_loss: 0.7878 - val_accuracy: 0.6893\n",
      "Epoch 26/40\n",
      "199020/199020 [==============================] - 9s 46us/step - loss: 0.7436 - accuracy: 0.6923 - val_loss: 0.7886 - val_accuracy: 0.6955\n",
      "Epoch 27/40\n",
      "199020/199020 [==============================] - 9s 48us/step - loss: 0.7436 - accuracy: 0.6937 - val_loss: 0.7872 - val_accuracy: 0.6950\n",
      "Epoch 28/40\n",
      "199020/199020 [==============================] - 8s 42us/step - loss: 0.7435 - accuracy: 0.6945 - val_loss: 0.7886 - val_accuracy: 0.6909\n",
      "Epoch 29/40\n",
      "199020/199020 [==============================] - 8s 42us/step - loss: 0.7434 - accuracy: 0.6941 - val_loss: 0.7885 - val_accuracy: 0.6994\n",
      "Epoch 30/40\n",
      "199020/199020 [==============================] - 9s 43us/step - loss: 0.7434 - accuracy: 0.6946 - val_loss: 0.7876 - val_accuracy: 0.6892\n",
      "Epoch 31/40\n",
      "199020/199020 [==============================] - 8s 40us/step - loss: 0.7435 - accuracy: 0.6936 - val_loss: 0.7883 - val_accuracy: 0.6986\n",
      "Epoch 32/40\n",
      "199020/199020 [==============================] - 8s 40us/step - loss: 0.7431 - accuracy: 0.6953 - val_loss: 0.7874 - val_accuracy: 0.6969\n",
      "Epoch 33/40\n",
      "199020/199020 [==============================] - 8s 42us/step - loss: 0.7430 - accuracy: 0.6951 - val_loss: 0.7865 - val_accuracy: 0.6959\n",
      "Epoch 34/40\n",
      "199020/199020 [==============================] - 9s 44us/step - loss: 0.7431 - accuracy: 0.6962 - val_loss: 0.7919 - val_accuracy: 0.6832\n",
      "Epoch 35/40\n",
      "199020/199020 [==============================] - 10s 49us/step - loss: 0.7428 - accuracy: 0.6970 - val_loss: 0.7902 - val_accuracy: 0.6888\n",
      "Epoch 36/40\n",
      "199020/199020 [==============================] - 10s 50us/step - loss: 0.7430 - accuracy: 0.6972 - val_loss: 0.7869 - val_accuracy: 0.7062\n",
      "Epoch 37/40\n",
      "199020/199020 [==============================] - 10s 48us/step - loss: 0.7429 - accuracy: 0.6972 - val_loss: 0.7868 - val_accuracy: 0.6965\n",
      "Epoch 38/40\n",
      "199020/199020 [==============================] - 9s 47us/step - loss: 0.7426 - accuracy: 0.6979 - val_loss: 0.7876 - val_accuracy: 0.6984\n",
      "Epoch 39/40\n",
      "199020/199020 [==============================] - 10s 48us/step - loss: 0.7427 - accuracy: 0.6977 - val_loss: 0.7850 - val_accuracy: 0.7015\n",
      "Epoch 40/40\n",
      "199020/199020 [==============================] - 10s 48us/step - loss: 0.7426 - accuracy: 0.6989 - val_loss: 0.7851 - val_accuracy: 0.7005\n"
     ]
    }
   ],
   "source": [
    "nb_epoch = 40\n",
    "batch_size = 32\n",
    "\n",
    "autoencoder.compile(optimizer='adam', \n",
    "                    loss='mean_squared_error', \n",
    "                    metrics=['accuracy'])\n",
    "\n",
    "checkpointer = ModelCheckpoint(filepath='model.h5',\n",
    "                               verbose=0,\n",
    "                               save_best_only=True)\n",
    "tensorboard = TensorBoard(log_dir='./logs',\n",
    "                          histogram_freq=0,\n",
    "                          write_graph=True,\n",
    "                          write_images=True)\n",
    "\n",
    "history = autoencoder.fit(X_train, X_train,\n",
    "                    epochs=nb_epoch,\n",
    "                    batch_size=batch_size,\n",
    "                    shuffle=True,\n",
    "                    validation_data=(X_test, X_test),\n",
    "                    verbose=1,\n",
    "                    callbacks=[checkpointer, tensorboard]).history"
   ]
  },
  {
   "cell_type": "code",
   "execution_count": 101,
   "metadata": {},
   "outputs": [],
   "source": [
    "model = load_model('model.h5')"
   ]
  },
  {
   "cell_type": "code",
   "execution_count": 102,
   "metadata": {},
   "outputs": [
    {
     "data": {
      "text/plain": [
       "<matplotlib.legend.Legend at 0x7feaa12f6d60>"
      ]
     },
     "execution_count": 102,
     "metadata": {},
     "output_type": "execute_result"
    },
    {
     "data": {
      "image/png": "[encoded data removed]",
      "text/plain": [
       "<Figure size 432x288 with 1 Axes>"
      ]
     },
     "metadata": {
      "needs_background": "light"
     },
     "output_type": "display_data"
    }
   ],
   "source": [
    "plt.plot(history['loss'])\n",
    "plt.plot(history['val_loss'])\n",
    "plt.title('model loss')\n",
    "plt.ylabel('loss')\n",
    "plt.xlabel('epoch')\n",
    "plt.legend(['train', 'test'], loc='upper right')"
   ]
  },
  {
   "cell_type": "code",
   "execution_count": 103,
   "metadata": {},
   "outputs": [],
   "source": [
    "predictions = autoencoder.predict(X_test)"
   ]
  },
  {
   "cell_type": "code",
   "execution_count": 104,
   "metadata": {},
   "outputs": [],
   "source": [
    "import numpy as np\n",
    "\n",
    "\n",
    "mse = np.mean(np.power(X_test - predictions, 2), axis=1)"
   ]
  },
  {
   "cell_type": "code",
   "execution_count": 107,
   "metadata": {},
   "outputs": [
    {
     "data": {
      "image/png": "[encoded data removed]",
      "text/plain": [
       "<Figure size 432x288 with 1 Axes>"
      ]
     },
     "metadata": {
      "needs_background": "light"
     },
     "output_type": "display_data"
    }
   ],
   "source": [
    "from sklearn.metrics import precision_recall_curve\n",
    "\n",
    "\n",
    "precision, recall, th = precision_recall_curve(Y_test, mse)\n",
    "plt.plot(recall, precision, 'b', label='Precision-Recall curve')\n",
    "plt.title('Recall vs Precision')\n",
    "plt.xlabel('Recall')\n",
    "plt.ylabel('Precision')\n",
    "plt.show()"
   ]
  },
  {
   "cell_type": "code",
   "execution_count": null,
   "metadata": {},
   "outputs": [],
   "source": [
    "plt.savefig('fname.svg', dpi=300, facecolor='w', edgecolor='red',\n",
    "        orientation='portrait', papertype=None, format=None,\n",
    "        transparent=True, bbox_inches=None, pad_inches=0.1)"
   ]
  }
 ],
 "metadata": {
  "kernelspec": {
   "display_name": "Python 3",
   "language": "python",
   "name": "python3"
  },
  "language_info": {
   "codemirror_mode": {
    "name": "ipython",
    "version": 3
   },
   "file_extension": ".py",
   "mimetype": "text/x-python",
   "name": "python",
   "nbconvert_exporter": "python",
   "pygments_lexer": "ipython3",
   "version": "3.8.3"
  }
 },
 "nbformat": 4,
 "nbformat_minor": 4
}
